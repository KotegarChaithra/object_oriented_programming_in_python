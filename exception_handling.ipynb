{
 "cells": [
  {
   "cell_type": "markdown",
   "id": "2c6c4a2b-afa8-4e07-8253-01419624fab6",
   "metadata": {},
   "source": [
    "__Error__:\n",
    "1. Compile Time error\n",
    "2. Logical error\n",
    "3. Runtime error"
   ]
  },
  {
   "cell_type": "markdown",
   "id": "b6482b54-93e6-45a7-8656-993804a2d9c3",
   "metadata": {},
   "source": [
    "__Compile time erro__:\n",
    "When there is syntax error , for e.g... print statement spelling mistake or if there is if condition usage and forgot to put ':' then its a syntax error then its a Compile time error, we will get that on compilation\n",
    "\n",
    "__Logica Error__:\n",
    "e.g.. wrong output\n",
    "2+3=5 should be the output, if there is 2+3=4 then that is Logical error, there is something wrong in logic.\n",
    "\n",
    "__Runtime error__:\n",
    "e.g. divide by zero"
   ]
  },
  {
   "cell_type": "code",
   "execution_count": 5,
   "id": "6b054547-e017-4a9f-bcba-211bb848c4de",
   "metadata": {},
   "outputs": [
    {
     "ename": "ZeroDivisionError",
     "evalue": "division by zero",
     "output_type": "error",
     "traceback": [
      "\u001b[1;31m---------------------------------------------------------------------------\u001b[0m",
      "\u001b[1;31mZeroDivisionError\u001b[0m                         Traceback (most recent call last)",
      "Cell \u001b[1;32mIn[5], line 3\u001b[0m\n\u001b[0;32m      1\u001b[0m a\u001b[38;5;241m=\u001b[39m \u001b[38;5;241m5\u001b[39m\n\u001b[0;32m      2\u001b[0m b \u001b[38;5;241m=\u001b[39m \u001b[38;5;241m0\u001b[39m\n\u001b[1;32m----> 3\u001b[0m \u001b[38;5;28mprint\u001b[39m(a\u001b[38;5;241m/\u001b[39mb)\n\u001b[0;32m      4\u001b[0m \u001b[38;5;28mprint\u001b[39m(\u001b[38;5;124m\"\u001b[39m\u001b[38;5;124mBye\u001b[39m\u001b[38;5;124m\"\u001b[39m)\n",
      "\u001b[1;31mZeroDivisionError\u001b[0m: division by zero"
     ]
    }
   ],
   "source": [
    "a= 5\n",
    "b = 0\n",
    "print(a/b)\n",
    "print(\"Bye\")"
   ]
  },
  {
   "cell_type": "markdown",
   "id": "b58fb3dd-a01c-451e-9d83-68c0b4be6c1a",
   "metadata": {},
   "source": [
    "Execution stops in the middle, it won't run \"Bye\".So we don't wan't to stop in the middle right?"
   ]
  },
  {
   "cell_type": "code",
   "execution_count": 8,
   "id": "5b403b1c-de19-4bd7-92a3-26f0ad404cf8",
   "metadata": {},
   "outputs": [
    {
     "name": "stdout",
     "output_type": "stream",
     "text": [
      "Hey you cannot divide a number by zero\n",
      "Bye\n"
     ]
    }
   ],
   "source": [
    "a = 5\n",
    "b = 0\n",
    "\n",
    "try:\n",
    "    print(a/b)\n",
    "except Exception:\n",
    "    print(\"Hey you cannot divide a number by zero\")\n",
    "\n",
    "print(\"Bye\")\n"
   ]
  },
  {
   "cell_type": "code",
   "execution_count": null,
   "id": "9c2f9fe9-e7ff-4392-ac5b-16259c0e3ab2",
   "metadata": {},
   "outputs": [],
   "source": []
  },
  {
   "cell_type": "markdown",
   "id": "d81c9b1b-6a32-41a4-a114-498e4877ed39",
   "metadata": {},
   "source": [
    "what if I change value b=2?"
   ]
  },
  {
   "cell_type": "code",
   "execution_count": 11,
   "id": "8145079e-840d-4184-aade-b252c9cbe373",
   "metadata": {},
   "outputs": [
    {
     "name": "stdout",
     "output_type": "stream",
     "text": [
      "2.5\n",
      "Bye\n"
     ]
    }
   ],
   "source": [
    "a = 5\n",
    "b = 2\n",
    "\n",
    "try:\n",
    "    print(a/b)\n",
    "except Exception:\n",
    "    print(\"Hey you cannot divide a number by zero\")\n",
    "\n",
    "print(\"Bye\")"
   ]
  },
  {
   "cell_type": "code",
   "execution_count": 17,
   "id": "46ccefce-ed86-4b0d-8a96-d0428d034726",
   "metadata": {},
   "outputs": [
    {
     "name": "stdout",
     "output_type": "stream",
     "text": [
      "Hey you cannot divide a number by zero division by zero\n",
      "Bye\n"
     ]
    }
   ],
   "source": [
    "a = 5\n",
    "b = 0\n",
    "\n",
    "try:\n",
    "    print(a/b)\n",
    "#if I want to know what is the error when it is handling    \n",
    "except Exception as e:\n",
    "    print(\"Hey you cannot divide a number by zero\", e)\n",
    "\n",
    "print(\"Bye\")"
   ]
  },
  {
   "cell_type": "code",
   "execution_count": 22,
   "id": "30269d04-3797-4022-8a44-93accb65dd78",
   "metadata": {},
   "outputs": [
    {
     "name": "stdout",
     "output_type": "stream",
     "text": [
      "resource open\n",
      "Hey you cannot divide a number by zero division by zero\n",
      "resource closed\n",
      "Bye\n"
     ]
    }
   ],
   "source": [
    "a = 5\n",
    "b = 0\n",
    "\n",
    "try:\n",
    "    print(\"resource open\")\n",
    "    print(a/b)\n",
    "    print(\"resource closed\")\n",
    "#if I want to know what is the error when it is handling    \n",
    "except Exception as e:\n",
    "    print(\"Hey you cannot divide a number by zero\", e)\n",
    "\n",
    "print(\"Bye\")"
   ]
  },
  {
   "cell_type": "markdown",
   "id": "28f79d68-1b9c-4ca4-86ce-dd6b19fb45ce",
   "metadata": {},
   "source": [
    "we don't have resource closed, by the above output.\n"
   ]
  },
  {
   "cell_type": "code",
   "execution_count": 26,
   "id": "94c55cc9-1230-4784-badb-1c425051fe1f",
   "metadata": {},
   "outputs": [
    {
     "name": "stdout",
     "output_type": "stream",
     "text": [
      "resource open\n",
      "Hey you cannot divide a number by zero division by zero\n",
      "resource closed\n"
     ]
    }
   ],
   "source": [
    "a = 5\n",
    "b = 0\n",
    "\n",
    "try:\n",
    "    print(\"resource open\")\n",
    "    print(a/b)\n",
    "    \n",
    "#if I want to know what is the error when it is handling    \n",
    "except Exception as e:\n",
    "    print(\"Hey you cannot divide a number by zero\", e)\n",
    "    print(\"resource closed\")\n",
    "\n"
   ]
  },
  {
   "cell_type": "code",
   "execution_count": 28,
   "id": "abe79ef1-e0da-4f65-953c-046e2a4f6dc6",
   "metadata": {},
   "outputs": [
    {
     "name": "stdout",
     "output_type": "stream",
     "text": [
      "resource open\n",
      "2.5\n"
     ]
    }
   ],
   "source": [
    "a = 5\n",
    "b = 2 # changed value \n",
    "\n",
    "try:\n",
    "    print(\"resource open\")\n",
    "    print(a/b)\n",
    "    \n",
    "#if I want to know what is the error when it is handling    \n",
    "except Exception as e:\n",
    "    print(\"Hey you cannot divide a number by zero\", e)\n",
    "    print(\"resource closed\")\n"
   ]
  },
  {
   "cell_type": "markdown",
   "id": "c9e5b7b4-ad0a-4a57-9e20-197c207c04d9",
   "metadata": {},
   "source": [
    "From the above output we are not closing resource, so that only we'll use finally block"
   ]
  },
  {
   "cell_type": "code",
   "execution_count": 35,
   "id": "c19939a1-1720-40f1-b176-8a6448fdd889",
   "metadata": {},
   "outputs": [
    {
     "name": "stdout",
     "output_type": "stream",
     "text": [
      "resource open\n",
      "2.5\n",
      "resource closed\n"
     ]
    }
   ],
   "source": [
    "a = 5\n",
    "b = 2 # changed value \n",
    "\n",
    "try:\n",
    "    print(\"resource open\")\n",
    "    print(a/b)\n",
    "    \n",
    "#if I want to know what is the error when it is handling    \n",
    "except Exception as e:\n",
    "    print(\"Hey you cannot divide a number by zero\", e)\n",
    "    \n",
    "#whether we have exception or not finally will be excecuted \n",
    "finally:\n",
    "    print(\"resource closed\")"
   ]
  },
  {
   "cell_type": "code",
   "execution_count": 37,
   "id": "9b91aab8-80d8-4591-8ee0-26487df95c83",
   "metadata": {},
   "outputs": [
    {
     "name": "stdout",
     "output_type": "stream",
     "text": [
      "resource open\n",
      "2.5\n"
     ]
    },
    {
     "name": "stdin",
     "output_type": "stream",
     "text": [
      "Enter a number 6\n"
     ]
    },
    {
     "name": "stdout",
     "output_type": "stream",
     "text": [
      "6\n",
      "resource closed\n"
     ]
    }
   ],
   "source": [
    "a = 5\n",
    "b = 2 # changed value \n",
    "\n",
    "try:\n",
    "    print(\"resource open\")\n",
    "    print(a/b)\n",
    "    k = int(input(\"Enter a number\"))\n",
    "    print(k)\n",
    "    \n",
    "#if I want to know what is the error when it is handling    \n",
    "except Exception as e:\n",
    "    print(\"Hey you cannot divide a number by zero\", e)\n",
    "    \n",
    "#whether we have exception or not finally will be excecuted \n",
    "finally:\n",
    "    print(\"resource closed\")"
   ]
  },
  {
   "cell_type": "code",
   "execution_count": 39,
   "id": "59f568a1-030b-4404-b979-7a8446ed8268",
   "metadata": {},
   "outputs": [
    {
     "name": "stdout",
     "output_type": "stream",
     "text": [
      "resource open\n",
      "2.5\n"
     ]
    },
    {
     "name": "stdin",
     "output_type": "stream",
     "text": [
      "Enter a number p\n"
     ]
    },
    {
     "name": "stdout",
     "output_type": "stream",
     "text": [
      "Hey you cannot divide a number by zero invalid literal for int() with base 10: 'p'\n",
      "resource closed\n"
     ]
    }
   ],
   "source": [
    "a = 5\n",
    "b = 2 # changed value \n",
    "\n",
    "try:\n",
    "    print(\"resource open\")\n",
    "    print(a/b)\n",
    "    k = int(input(\"Enter a number\"))# what if I enter string character instead of '0' I should get the error\n",
    "    print(k)\n",
    "    \n",
    "#if I want to know what is the error when it is handling    \n",
    "except Exception as e:\n",
    "    print(\"Hey you cannot divide a number by zero\", e)\n",
    "    \n",
    "#whether we have exception or not finally will be excecuted \n",
    "finally:\n",
    "    print(\"resource closed\")"
   ]
  },
  {
   "cell_type": "code",
   "execution_count": 43,
   "id": "6808fc4a-a209-4262-9b0c-ccdda980eb6d",
   "metadata": {},
   "outputs": [
    {
     "name": "stdin",
     "output_type": "stream",
     "text": [
      "Enter a number p\n"
     ]
    },
    {
     "ename": "ValueError",
     "evalue": "invalid literal for int() with base 10: 'p'",
     "output_type": "error",
     "traceback": [
      "\u001b[1;31m---------------------------------------------------------------------------\u001b[0m",
      "\u001b[1;31mValueError\u001b[0m                                Traceback (most recent call last)",
      "Cell \u001b[1;32mIn[43], line 4\u001b[0m\n\u001b[0;32m      1\u001b[0m a \u001b[38;5;241m=\u001b[39m \u001b[38;5;241m5\u001b[39m\n\u001b[0;32m      2\u001b[0m b \u001b[38;5;241m=\u001b[39m \u001b[38;5;241m2\u001b[39m \u001b[38;5;66;03m# changed value \u001b[39;00m\n\u001b[1;32m----> 4\u001b[0m k \u001b[38;5;241m=\u001b[39m \u001b[38;5;28mint\u001b[39m(\u001b[38;5;28minput\u001b[39m(\u001b[38;5;124m\"\u001b[39m\u001b[38;5;124mEnter a number\u001b[39m\u001b[38;5;124m\"\u001b[39m))\u001b[38;5;66;03m# what if I enter string character instead of '0' I should get the error\u001b[39;00m\n\u001b[0;32m      5\u001b[0m \u001b[38;5;28mprint\u001b[39m(k)\n\u001b[0;32m      7\u001b[0m \u001b[38;5;28;01mtry\u001b[39;00m:\n",
      "\u001b[1;31mValueError\u001b[0m: invalid literal for int() with base 10: 'p'"
     ]
    }
   ],
   "source": [
    "a = 5\n",
    "b = 2 # changed value \n",
    "\n",
    "k = int(input(\"Enter a number\"))# what if I enter string character instead of '0' I should get the error\n",
    "print(k)\n",
    "    \n",
    "try:\n",
    "    print(\"resource open\")\n",
    "    print(a/b)\n",
    "    \n",
    "#if I want to know what is the error when it is handling    \n",
    "except Exception as e:\n",
    "    print(\"Hey you cannot divide a number by zero\", e)\n",
    "    \n",
    "    \n",
    "#whether we have exception or not finally will be excecuted \n",
    "finally:\n",
    "    print(\"resource closed\")"
   ]
  },
  {
   "cell_type": "code",
   "execution_count": 45,
   "id": "7d7c3ca9-6c1a-45d7-813f-449d8ed9e46e",
   "metadata": {},
   "outputs": [
    {
     "name": "stdout",
     "output_type": "stream",
     "text": [
      "resource open\n",
      "2.5\n"
     ]
    },
    {
     "name": "stdin",
     "output_type": "stream",
     "text": [
      "Enter a number p\n"
     ]
    },
    {
     "name": "stdout",
     "output_type": "stream",
     "text": [
      "Invaid Input\n",
      "resource closed\n"
     ]
    }
   ],
   "source": [
    "a = 5\n",
    "b = 2 # changed value \n",
    "\n",
    "\n",
    "    \n",
    "try:\n",
    "    print(\"resource open\")\n",
    "    print(a/b)\n",
    "    k = int(input(\"Enter a number\"))# what if I enter string character instead of '0' I should get the error\n",
    "    print(k)\n",
    "    \n",
    "#if I want to know what is the error when it is handling    \n",
    "except ZeroDivisionError as e:\n",
    "    print(\"Hey you cannot divide a number by zero\", e)\n",
    "\n",
    "except ValueError as e:\n",
    "    print(\"Invaid Input\")\n",
    "\n",
    "except Exception as e:\n",
    "    print(\"Something went wrong..\")\n",
    "    \n",
    "    \n",
    "#whether we have exception or not finally will be excecuted \n",
    "finally:\n",
    "    print(\"resource closed\")"
   ]
  },
  {
   "cell_type": "code",
   "execution_count": null,
   "id": "ff026094-2860-448e-9262-0c8f3c0810e3",
   "metadata": {},
   "outputs": [],
   "source": []
  }
 ],
 "metadata": {
  "kernelspec": {
   "display_name": "Python 3 (ipykernel)",
   "language": "python",
   "name": "python3"
  },
  "language_info": {
   "codemirror_mode": {
    "name": "ipython",
    "version": 3
   },
   "file_extension": ".py",
   "mimetype": "text/x-python",
   "name": "python",
   "nbconvert_exporter": "python",
   "pygments_lexer": "ipython3",
   "version": "3.12.4"
  }
 },
 "nbformat": 4,
 "nbformat_minor": 5
}
